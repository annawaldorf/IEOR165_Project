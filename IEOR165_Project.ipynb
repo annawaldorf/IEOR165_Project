{
 "cells": [
  {
   "cell_type": "markdown",
   "metadata": {},
   "source": [
    "# IEOR 165 Final Project\n",
    "### Anna Waldorf\n",
    "\n",
    "\n",
    "**Condensed information for coefficients, training and testing error, and cross validation at the bottom of the notebook**\n",
    "\n",
    "\n",
    "The authors of the following research paper: Cortez, A. Cerdeira, F. Almeida, T. Matos, and J. Reis, “Modeling wine preferences by data mining from physicochemical properties”,Decision Support Systems, vol. 47, no. 4:547-553, 2009. considered  the  problem  of  modeling  wine  preferences.   \n",
    "\n",
    "Wine can be evaluated by experts who give a subjective score, and the question the authors of this paper considered was how to build a model that relates objective features of the wine (e.g. pH values) to its rated quality.\n",
    "\n",
    "For this project, we will use the data set available at: http://courses.ieor.berkeley.edu/ieor165/homeworks/winequality-red.csv \n",
    "\n",
    "Use the following methods to identify the coefficients of a linear model relating wine quality to different features of the wine: (1) ordinary least squares (OLS), (2) ridge regression (RR), (3) lasso regression, (4) elastic net. Make sure to include a constant (intercept) term  in  your model, and choose the tuning parameters using cross-validation. You may use any programming language you would like to. For your solutions, please include (i) plots of tuning parameters versus cross-validation error, (ii) tables of coefficients (labeled by the feature) computed by eachmethod, (iii) the minimum cross-validation error for each method, and (iv) the source code used to generate the plots and coefficients."
   ]
  },
  {
   "cell_type": "code",
   "execution_count": 1,
   "metadata": {},
   "outputs": [],
   "source": [
    "import pandas as pd\n",
    "import numpy as np\n",
    "import matplotlib as mlp\n",
    "import matplotlib.pyplot as plt\n",
    "from mpl_toolkits.mplot3d import Axes3D\n",
    "import csv\n",
    "import re\n",
    "import seaborn as sns\n",
    "from scipy import stats\n",
    "import sklearn\n",
    "import sklearn.datasets\n",
    "from sklearn import linear_model\n",
    "from sklearn.linear_model import Lasso\n",
    "from sklearn.linear_model import Ridge\n",
    "from sklearn.model_selection import KFold\n",
    "from sklearn.linear_model import ElasticNet\n",
    "from sklearn.model_selection import train_test_split\n",
    "from sklearn.model_selection import cross_val_score"
   ]
  },
  {
   "cell_type": "markdown",
   "metadata": {},
   "source": [
    "# Loading Wine Data\n",
    "Loading the data and splitting it into the predictor variables or features (X) and the response variable quality score (Y).\n",
    "We then need to split the data into training and testing data so that we know how well our model is at predicting."
   ]
  },
  {
   "cell_type": "code",
   "execution_count": 2,
   "metadata": {},
   "outputs": [],
   "source": [
    "wine_data = pd.read_csv(\"winequality-red.csv\")"
   ]
  },
  {
   "cell_type": "code",
   "execution_count": 3,
   "metadata": {},
   "outputs": [],
   "source": [
    "X = wine_data.iloc[:, 0:11]\n",
    "Y = wine_data.iloc[:,11]"
   ]
  },
  {
   "cell_type": "code",
   "execution_count": 4,
   "metadata": {},
   "outputs": [],
   "source": [
    "from sklearn.model_selection import train_test_split\n",
    "X_train, X_test, Y_train, Y_test = train_test_split(X, Y, test_size = 0.10)"
   ]
  },
  {
   "cell_type": "markdown",
   "metadata": {},
   "source": [
    "# Ordinary Least Squares Model\n",
    "Given by argmin(($ ||Y - Xbeta||^2_2)$and without any regularization.\n",
    "\n",
    "I am using scikit learn machine learning library built in linear regression model fitting.\n",
    "\n",
    "\"LinearRegression fits a linear model with coefficients w = (w1, …, wp) to minimize the residual sum of squares between the observed targets in the dataset, and the targets predicted by the linear approximation.\"\n",
    "    From: https://scikit-learn.org/stable/modules/generated/sklearn.linear_model.LinearRegression.html"
   ]
  },
  {
   "cell_type": "code",
   "execution_count": 5,
   "metadata": {},
   "outputs": [
    {
     "data": {
      "text/plain": [
       "LinearRegression(copy_X=True, fit_intercept=True, n_jobs=None, normalize=False)"
      ]
     },
     "execution_count": 5,
     "metadata": {},
     "output_type": "execute_result"
    }
   ],
   "source": [
    "#fitting the model with built in intercept\n",
    "ordinary_linear_model = linear_model.LinearRegression(fit_intercept=True)\n",
    "\n",
    "ordinary_linear_model.fit(X_train,Y_train)"
   ]
  },
  {
   "cell_type": "code",
   "execution_count": 6,
   "metadata": {},
   "outputs": [],
   "source": [
    "ols_coef = ordinary_linear_model.coef_\n",
    "columns = X.columns\n",
    "OLS_table = pd.DataFrame(columns=[\"feature\", \"coefficient\"])\n",
    "OLS_table[\"feature\"]=columns\n",
    "OLS_table[\"coefficient\"]=ols_coef\n",
    "ols_intercept = ordinary_linear_model.intercept_"
   ]
  },
  {
   "cell_type": "code",
   "execution_count": 7,
   "metadata": {},
   "outputs": [],
   "source": [
    "#cross validation even though we aren't finding hyperparameters\n",
    "scores = cross_val_score(ordinary_linear_model, X_train, Y_train, cv=10,scoring='neg_mean_squared_error')\n",
    "scores = np.abs(scores)\n",
    "ols_min_cv = min(scores)"
   ]
  },
  {
   "cell_type": "code",
   "execution_count": 8,
   "metadata": {},
   "outputs": [],
   "source": [
    "#rounding predictions since they are only whole numbers\n",
    "train_predictions = ordinary_linear_model.predict(X_train)\n",
    "train_predictions = np.around(train_predictions, decimals=0)\n",
    "train_predictions = train_predictions.astype(int)\n",
    "test_predictions = ordinary_linear_model.predict(X_test)\n",
    "test_predictions = np.around(test_predictions, decimals=0)\n",
    "test_predictions = test_predictions.astype(int)"
   ]
  },
  {
   "cell_type": "code",
   "execution_count": 9,
   "metadata": {},
   "outputs": [],
   "source": [
    "def mse_cost(y_pred, y_actual):\n",
    "    return np.mean((y_pred - y_actual) ** 2)"
   ]
  },
  {
   "cell_type": "code",
   "execution_count": 10,
   "metadata": {},
   "outputs": [],
   "source": [
    "ols_training_error=mse_cost(Y_train, train_predictions)\n",
    "ols_test_error=mse_cost(Y_test, test_predictions)"
   ]
  },
  {
   "cell_type": "markdown",
   "metadata": {},
   "source": [
    "# Ridge Regression\n",
    "\n",
    "   Given by argmin $ ||y - Xbeta||^2_2 + alpha * ||beta||^2_2 $ where alpha is the tuning parameter we will be finding using cross validation to minimize prediction error.\n",
    "\n",
    "I am using scikit learn machine learning library built in ridge regression model fitting.\n",
    "\n",
    "\"This model solves a regression model where the loss function is the linear least squares function and regularization is given by the l2-norm.\" From: https://scikit-learn.org/stable/modules/generated/sklearn.linear_model.Ridge.html#sklearn.linear_model.Ridge"
   ]
  },
  {
   "cell_type": "markdown",
   "metadata": {},
   "source": [
    "# Using kfold cross validation with k=10 to find best tuning parameter for Ridge"
   ]
  },
  {
   "cell_type": "code",
   "execution_count": 11,
   "metadata": {},
   "outputs": [],
   "source": [
    "alphas=np.arange(-10,10,.1)\n",
    "validation_errors =[]\n",
    "for alpha in alphas:\n",
    "    ridge_linear_model = Ridge(alpha=alpha, fit_intercept = True)\n",
    "    scores = cross_val_score(ridge_linear_model, X_train,Y_train, cv=10,scoring='neg_mean_squared_error')\n",
    "    validation_errors.append(np.mean(scores))\n",
    "validation_errors=np.abs(validation_errors)"
   ]
  },
  {
   "cell_type": "code",
   "execution_count": 12,
   "metadata": {},
   "outputs": [
    {
     "name": "stderr",
     "output_type": "stream",
     "text": [
      "C:\\Users\\annaw\\Anaconda3\\lib\\site-packages\\ipykernel_launcher.py:6: RuntimeWarning: invalid value encountered in log10\n",
      "  \n"
     ]
    },
    {
     "data": {
      "text/plain": [
       "<matplotlib.axes._subplots.AxesSubplot at 0x189a4686948>"
      ]
     },
     "execution_count": 12,
     "metadata": {},
     "output_type": "execute_result"
    },
    {
     "data": {
      "image/png": "[encoded data removed]",
      "text/plain": [
       "<Figure size 432x288 with 1 Axes>"
      ]
     },
     "metadata": {
      "needs_background": "light"
     },
     "output_type": "display_data"
    }
   ],
   "source": [
    "ridge_cv_table=pd.DataFrame(data=alphas)\n",
    "ridge_cv_table = ridge_cv_table.rename({0:'alphas'},axis=1)\n",
    "ridge_cv_table['cross_validation_errors']=validation_errors\n",
    "ridge_min_cv = min(ridge_cv_table['cross_validation_errors'])\n",
    "ridge_tuning = ridge_cv_table[ridge_cv_table['cross_validation_errors']==ridge_min_cv]['alphas'].values\n",
    "ridge_cv_table['log alphas']=np.log10(alphas)\n",
    "sns.scatterplot(x=\"log alphas\",y=\"cross_validation_errors\", data = ridge_cv_table)"
   ]
  },
  {
   "cell_type": "code",
   "execution_count": 13,
   "metadata": {},
   "outputs": [],
   "source": [
    "final_ridge_linear_model = Ridge(fit_intercept = True, alpha=ridge_tuning)\n",
    "final_ridge_linear_model.fit(X_train,Y_train)\n",
    "ridge_coef = final_ridge_linear_model.coef_\n",
    "ridge_intercept = final_ridge_linear_model.intercept_\n",
    "columns = X.columns\n",
    "ridge_table = pd.DataFrame(columns=[\"feature\", \"coefficient\"])\n",
    "ridge_table[\"feature\"]=columns\n",
    "ridge_table[\"coefficient\"]=ridge_coef"
   ]
  },
  {
   "cell_type": "code",
   "execution_count": 14,
   "metadata": {},
   "outputs": [],
   "source": [
    "#rounding predictions since they are only whole numbers\n",
    "train_predictions = final_ridge_linear_model.predict(X_train)\n",
    "train_predictions = np.around(train_predictions, decimals=0)\n",
    "train_predictions = train_predictions.astype(int)\n",
    "test_predictions = final_ridge_linear_model.predict(X_test)\n",
    "test_predictions = np.around(test_predictions, decimals=0)\n",
    "test_predictions = test_predictions.astype(int)\n",
    "ridge_training_error=mse_cost(Y_train, train_predictions)\n",
    "ridge_test_error=mse_cost(Y_test, test_predictions)"
   ]
  },
  {
   "cell_type": "markdown",
   "metadata": {},
   "source": [
    "# Lasso Regression\n",
    "\n",
    "   Given by argmin $ ||y - Xbeta||^2_2 + alpha * ||beta||_1 $ where alpha is the tuning parameter we will be finding using cross validation to minimize prediction error.\n",
    "\n",
    "I am using scikit learn machine learning library built in lasso regression model fitting. From: https://scikit-learn.org/stable/modules/generated/sklearn.linear_model.Lasso.html#sklearn.linear_model.Lasso"
   ]
  },
  {
   "cell_type": "markdown",
   "metadata": {},
   "source": [
    "# Using kfold cross validation with k=10 to find best tuning parameter for Lasso"
   ]
  },
  {
   "cell_type": "code",
   "execution_count": 15,
   "metadata": {},
   "outputs": [],
   "source": [
    "alphas=np.arange(0.01,1,.01)\n",
    "validation_errors =[]\n",
    "for alpha in alphas:\n",
    "    lasso_linear_model = Lasso(alpha=alpha, fit_intercept = True)\n",
    "    scores = cross_val_score(lasso_linear_model, X_train,Y_train, cv=10,scoring='neg_mean_squared_error')\n",
    "    validation_errors.append(np.mean(scores))\n",
    "validation_errors=np.abs(validation_errors)"
   ]
  },
  {
   "cell_type": "code",
   "execution_count": 16,
   "metadata": {},
   "outputs": [
    {
     "data": {
      "text/plain": [
       "<matplotlib.axes._subplots.AxesSubplot at 0x189a46f77c8>"
      ]
     },
     "execution_count": 16,
     "metadata": {},
     "output_type": "execute_result"
    },
    {
     "data": {
      "image/png": "[encoded data removed]",
      "text/plain": [
       "<Figure size 432x288 with 1 Axes>"
      ]
     },
     "metadata": {
      "needs_background": "light"
     },
     "output_type": "display_data"
    }
   ],
   "source": [
    "lasso_cv_table=pd.DataFrame(data=alphas)\n",
    "lasso_cv_table = lasso_cv_table.rename({0:'alphas'},axis=1)\n",
    "lasso_cv_table['cross_validation_errors']=validation_errors\n",
    "lasso_min_cv = min(lasso_cv_table['cross_validation_errors'])\n",
    "lasso_tuning = lasso_cv_table[lasso_cv_table['cross_validation_errors']==lasso_min_cv]['alphas'].values\n",
    "lasso_cv_table['log alphas']=np.log10(alphas)\n",
    "sns.scatterplot(x=\"log alphas\",y=\"cross_validation_errors\", data =lasso_cv_table)"
   ]
  },
  {
   "cell_type": "code",
   "execution_count": 17,
   "metadata": {},
   "outputs": [],
   "source": [
    "final_lasso_linear_model = Lasso(fit_intercept = True, alpha=lasso_tuning)\n",
    "final_lasso_linear_model.fit(X_train,Y_train)\n",
    "lasso_coef = final_lasso_linear_model.coef_\n",
    "lasso_intercept = final_lasso_linear_model.intercept_\n",
    "columns = X.columns\n",
    "lasso_table = pd.DataFrame(columns=[\"feature\", \"coefficient\"])\n",
    "lasso_table[\"feature\"]=columns\n",
    "lasso_table[\"coefficient\"]=lasso_coef"
   ]
  },
  {
   "cell_type": "code",
   "execution_count": 18,
   "metadata": {},
   "outputs": [],
   "source": [
    "#rounding predictions since they are only whole numbers\n",
    "train_predictions = final_lasso_linear_model.predict(X_train)\n",
    "train_predictions = np.around(train_predictions, decimals=0)\n",
    "train_predictions = train_predictions.astype(int)\n",
    "test_predictions = final_lasso_linear_model.predict(X_test)\n",
    "test_predictions = np.around(test_predictions, decimals=0)\n",
    "test_predictions = test_predictions.astype(int)\n",
    "lasso_training_error=mse_cost(Y_train, train_predictions)\n",
    "lasso_test_error=mse_cost(Y_test, test_predictions)"
   ]
  },
  {
   "cell_type": "markdown",
   "metadata": {},
   "source": [
    "# Elastic Net Regression\n",
    "\n",
    "   Given by argmin $ ||y - Xbeta||^2_2 + alpha * ||beta||^2_2 + lambda * ||beta||_1 $ where alpha and lambda are the tuning parameters we will be finding using cross validation to minimize prediction error. Elastic net is combing the penalty functions from Lasso and Ridge regression\n",
    "\n",
    "I am using scikit learn machine learning library built in elastic net regression model fitting. From: https://scikit-learn.org/stable/modules/generated/sklearn.linear_model.ElasticNet.html"
   ]
  },
  {
   "cell_type": "code",
   "execution_count": 19,
   "metadata": {},
   "outputs": [],
   "source": [
    "alphas=np.arange(0.1,1,.1)\n",
    "validation_errors =[]\n",
    "for alpha in alphas:\n",
    "    for beta in alphas:\n",
    "        EN_linear_model = ElasticNet(alpha=alpha, l1_ratio=beta, fit_intercept = True)\n",
    "        scores = cross_val_score(EN_linear_model, X_train, Y_train, cv=10,scoring='neg_mean_squared_error')\n",
    "        validation_errors.append(np.mean(scores))\n",
    "validation_errors=np.abs(validation_errors)"
   ]
  },
  {
   "cell_type": "code",
   "execution_count": 20,
   "metadata": {},
   "outputs": [],
   "source": [
    "rpt_alphas=[]\n",
    "for i in alphas:\n",
    "    rpt_alphas.append(alphas)\n",
    "rpt_alphas = np.concatenate(rpt_alphas)\n",
    "rpt_l1=[]\n",
    "for i in alphas:\n",
    "    for j in alphas:\n",
    "        rpt_l1.append(i)"
   ]
  },
  {
   "cell_type": "code",
   "execution_count": 21,
   "metadata": {},
   "outputs": [],
   "source": [
    "EN_cv_table=pd.DataFrame(data=rpt_alphas)\n",
    "EN_cv_table = EN_cv_table.rename({0:'alphas'},axis=1)\n",
    "EN_cv_table['lambdas']=rpt_l1\n",
    "EN_cv_table['cross_validation_errors']=validation_errors\n",
    "EN_min_cv = min(EN_cv_table['cross_validation_errors'])\n",
    "EN_tuning = EN_cv_table[EN_cv_table['cross_validation_errors']==EN_min_cv][['alphas', 'lambdas']].values\n",
    "EN_alpha = EN_tuning[0,0]\n",
    "EN_lambda = EN_tuning[0,1]"
   ]
  },
  {
   "cell_type": "code",
   "execution_count": 22,
   "metadata": {},
   "outputs": [
    {
     "data": {
      "text/plain": [
       "Text(0.5, 0, 'lambda')"
      ]
     },
     "execution_count": 22,
     "metadata": {},
     "output_type": "execute_result"
    },
    {
     "data": {
      "image/png": "[encoded data removed]",
      "text/plain": [
       "<Figure size 432x288 with 1 Axes>"
      ]
     },
     "metadata": {
      "needs_background": "light"
     },
     "output_type": "display_data"
    }
   ],
   "source": [
    "fig = plt.figure()\n",
    "ax = fig.add_subplot(111, projection='3d')\n",
    "x=rpt_alphas\n",
    "y=rpt_l1\n",
    "z=validation_errors\n",
    "ax.plot(x,y,z, label=\"Cross Validation Errors\")\n",
    "plt.xlabel('alphas')\n",
    "plt.ylabel('lambda')"
   ]
  },
  {
   "cell_type": "code",
   "execution_count": 23,
   "metadata": {},
   "outputs": [],
   "source": [
    "final_EN_linear_model = ElasticNet(fit_intercept = True, alpha=EN_alpha, l1_ratio=EN_lambda)\n",
    "final_EN_linear_model.fit(X_train,Y_train)\n",
    "EN_coef = final_EN_linear_model.coef_\n",
    "EN_intercept = final_EN_linear_model.intercept_\n",
    "columns = X.columns\n",
    "EN_table = pd.DataFrame(columns=[\"feature\", \"coefficient\"])\n",
    "EN_table[\"feature\"]=columns\n",
    "EN_table[\"coefficient\"]=EN_coef"
   ]
  },
  {
   "cell_type": "code",
   "execution_count": 24,
   "metadata": {},
   "outputs": [],
   "source": [
    "#rounding predictions since they are only whole numbers\n",
    "train_predictions = final_EN_linear_model.predict(X_train)\n",
    "train_predictions = np.around(train_predictions, decimals=0)\n",
    "train_predictions = train_predictions.astype(int)\n",
    "test_predictions = final_EN_linear_model.predict(X_test)\n",
    "test_predictions = np.around(test_predictions, decimals=0)\n",
    "test_predictions = test_predictions.astype(int)\n",
    "EN_training_error=mse_cost(Y_train, train_predictions)\n",
    "EN_test_error=mse_cost(Y_test, test_predictions)"
   ]
  },
  {
   "cell_type": "markdown",
   "metadata": {},
   "source": [
    "# Concise Portrayal of Information from Modeling\n",
    "Concluding report of differing models"
   ]
  },
  {
   "cell_type": "markdown",
   "metadata": {},
   "source": [
    "# OLS"
   ]
  },
  {
   "cell_type": "code",
   "execution_count": 25,
   "metadata": {},
   "outputs": [
    {
     "name": "stdout",
     "output_type": "stream",
     "text": [
      "OLS training error: 0.4864489228630994\n",
      "OLS test error: 0.60625\n",
      "Minimum cross validation error: 0.35027597030144075\n",
      "OLS Intercept term: 0.47253885695043696\n"
     ]
    },
    {
     "data": {
      "text/html": [
       "<div>\n",
       "<style scoped>\n",
       "    .dataframe tbody tr th:only-of-type {\n",
       "        vertical-align: middle;\n",
       "    }\n",
       "\n",
       "    .dataframe tbody tr th {\n",
       "        vertical-align: top;\n",
       "    }\n",
       "\n",
       "    .dataframe thead th {\n",
       "        text-align: right;\n",
       "    }\n",
       "</style>\n",
       "<table border=\"1\" class=\"dataframe\">\n",
       "  <thead>\n",
       "    <tr style=\"text-align: right;\">\n",
       "      <th></th>\n",
       "      <th>feature</th>\n",
       "      <th>coefficient</th>\n",
       "    </tr>\n",
       "  </thead>\n",
       "  <tbody>\n",
       "    <tr>\n",
       "      <td>0</td>\n",
       "      <td>fixed acidity</td>\n",
       "      <td>0.004226</td>\n",
       "    </tr>\n",
       "    <tr>\n",
       "      <td>1</td>\n",
       "      <td>volatile acidity</td>\n",
       "      <td>-1.036532</td>\n",
       "    </tr>\n",
       "    <tr>\n",
       "      <td>2</td>\n",
       "      <td>citric acid</td>\n",
       "      <td>-0.131310</td>\n",
       "    </tr>\n",
       "    <tr>\n",
       "      <td>3</td>\n",
       "      <td>residual sugar</td>\n",
       "      <td>0.004632</td>\n",
       "    </tr>\n",
       "    <tr>\n",
       "      <td>4</td>\n",
       "      <td>chlorides</td>\n",
       "      <td>-1.794567</td>\n",
       "    </tr>\n",
       "    <tr>\n",
       "      <td>5</td>\n",
       "      <td>free sulfur dioxide</td>\n",
       "      <td>0.005467</td>\n",
       "    </tr>\n",
       "    <tr>\n",
       "      <td>6</td>\n",
       "      <td>total sulfur dioxide</td>\n",
       "      <td>-0.003409</td>\n",
       "    </tr>\n",
       "    <tr>\n",
       "      <td>7</td>\n",
       "      <td>density</td>\n",
       "      <td>3.531430</td>\n",
       "    </tr>\n",
       "    <tr>\n",
       "      <td>8</td>\n",
       "      <td>pH</td>\n",
       "      <td>-0.396416</td>\n",
       "    </tr>\n",
       "    <tr>\n",
       "      <td>9</td>\n",
       "      <td>sulphates</td>\n",
       "      <td>0.883648</td>\n",
       "    </tr>\n",
       "    <tr>\n",
       "      <td>10</td>\n",
       "      <td>alcohol</td>\n",
       "      <td>0.301542</td>\n",
       "    </tr>\n",
       "  </tbody>\n",
       "</table>\n",
       "</div>"
      ],
      "text/plain": [
       "                 feature  coefficient\n",
       "0          fixed acidity     0.004226\n",
       "1       volatile acidity    -1.036532\n",
       "2            citric acid    -0.131310\n",
       "3         residual sugar     0.004632\n",
       "4              chlorides    -1.794567\n",
       "5    free sulfur dioxide     0.005467\n",
       "6   total sulfur dioxide    -0.003409\n",
       "7                density     3.531430\n",
       "8                     pH    -0.396416\n",
       "9              sulphates     0.883648\n",
       "10               alcohol     0.301542"
      ]
     },
     "execution_count": 25,
     "metadata": {},
     "output_type": "execute_result"
    }
   ],
   "source": [
    "print(\"OLS training error:\",ols_training_error)\n",
    "print(\"OLS test error:\",ols_test_error)\n",
    "print(\"Minimum cross validation error:\",ols_min_cv)\n",
    "print(\"OLS Intercept term:\",ols_intercept)\n",
    "OLS_table"
   ]
  },
  {
   "cell_type": "markdown",
   "metadata": {},
   "source": [
    "# Ridge:"
   ]
  },
  {
   "cell_type": "code",
   "execution_count": 26,
   "metadata": {},
   "outputs": [
    {
     "name": "stdout",
     "output_type": "stream",
     "text": [
      "Ridge training error: 0.49131341209173035\n",
      "Ridge test error: 0.6\n",
      "Minimum cross validation error: 0.41667737903492397\n",
      "Ridge tuninng parameter alpha: [-0.1]\n",
      "Ridge Intercept term: 4.010107489423452\n"
     ]
    },
    {
     "data": {
      "text/plain": [
       "<matplotlib.axes._subplots.AxesSubplot at 0x189a5c4b7c8>"
      ]
     },
     "execution_count": 26,
     "metadata": {},
     "output_type": "execute_result"
    },
    {
     "data": {
      "image/png": "[encoded data removed]",
      "text/plain": [
       "<Figure size 432x288 with 1 Axes>"
      ]
     },
     "metadata": {
      "needs_background": "light"
     },
     "output_type": "display_data"
    }
   ],
   "source": [
    "print(\"Ridge training error:\",ridge_training_error)\n",
    "print(\"Ridge test error:\",ridge_test_error)\n",
    "print(\"Minimum cross validation error:\",ridge_min_cv)\n",
    "print(\"Ridge tuninng parameter alpha:\",ridge_tuning)\n",
    "print(\"Ridge Intercept term:\",ridge_intercept)\n",
    "sns.scatterplot(x=\"log alphas\",y=\"cross_validation_errors\", data = ridge_cv_table)"
   ]
  },
  {
   "cell_type": "code",
   "execution_count": 27,
   "metadata": {},
   "outputs": [
    {
     "data": {
      "text/html": [
       "<div>\n",
       "<style scoped>\n",
       "    .dataframe tbody tr th:only-of-type {\n",
       "        vertical-align: middle;\n",
       "    }\n",
       "\n",
       "    .dataframe tbody tr th {\n",
       "        vertical-align: top;\n",
       "    }\n",
       "\n",
       "    .dataframe thead th {\n",
       "        text-align: right;\n",
       "    }\n",
       "</style>\n",
       "<table border=\"1\" class=\"dataframe\">\n",
       "  <thead>\n",
       "    <tr style=\"text-align: right;\">\n",
       "      <th></th>\n",
       "      <th>feature</th>\n",
       "      <th>coefficient</th>\n",
       "    </tr>\n",
       "  </thead>\n",
       "  <tbody>\n",
       "    <tr>\n",
       "      <td>0</td>\n",
       "      <td>fixed acidity</td>\n",
       "      <td>0.006688</td>\n",
       "    </tr>\n",
       "    <tr>\n",
       "      <td>1</td>\n",
       "      <td>volatile acidity</td>\n",
       "      <td>-1.030581</td>\n",
       "    </tr>\n",
       "    <tr>\n",
       "      <td>2</td>\n",
       "      <td>citric acid</td>\n",
       "      <td>-0.126332</td>\n",
       "    </tr>\n",
       "    <tr>\n",
       "      <td>3</td>\n",
       "      <td>residual sugar</td>\n",
       "      <td>0.006245</td>\n",
       "    </tr>\n",
       "    <tr>\n",
       "      <td>4</td>\n",
       "      <td>chlorides</td>\n",
       "      <td>-1.874717</td>\n",
       "    </tr>\n",
       "    <tr>\n",
       "      <td>5</td>\n",
       "      <td>free sulfur dioxide</td>\n",
       "      <td>0.005453</td>\n",
       "    </tr>\n",
       "    <tr>\n",
       "      <td>6</td>\n",
       "      <td>total sulfur dioxide</td>\n",
       "      <td>-0.003418</td>\n",
       "    </tr>\n",
       "    <tr>\n",
       "      <td>7</td>\n",
       "      <td>density</td>\n",
       "      <td>-0.034170</td>\n",
       "    </tr>\n",
       "    <tr>\n",
       "      <td>8</td>\n",
       "      <td>pH</td>\n",
       "      <td>-0.387940</td>\n",
       "    </tr>\n",
       "    <tr>\n",
       "      <td>9</td>\n",
       "      <td>sulphates</td>\n",
       "      <td>0.899113</td>\n",
       "    </tr>\n",
       "    <tr>\n",
       "      <td>10</td>\n",
       "      <td>alcohol</td>\n",
       "      <td>0.297387</td>\n",
       "    </tr>\n",
       "  </tbody>\n",
       "</table>\n",
       "</div>"
      ],
      "text/plain": [
       "                 feature  coefficient\n",
       "0          fixed acidity     0.006688\n",
       "1       volatile acidity    -1.030581\n",
       "2            citric acid    -0.126332\n",
       "3         residual sugar     0.006245\n",
       "4              chlorides    -1.874717\n",
       "5    free sulfur dioxide     0.005453\n",
       "6   total sulfur dioxide    -0.003418\n",
       "7                density    -0.034170\n",
       "8                     pH    -0.387940\n",
       "9              sulphates     0.899113\n",
       "10               alcohol     0.297387"
      ]
     },
     "execution_count": 27,
     "metadata": {},
     "output_type": "execute_result"
    }
   ],
   "source": [
    "ridge_table"
   ]
  },
  {
   "cell_type": "markdown",
   "metadata": {},
   "source": [
    "# Lasso:"
   ]
  },
  {
   "cell_type": "code",
   "execution_count": 28,
   "metadata": {},
   "outputs": [
    {
     "name": "stdout",
     "output_type": "stream",
     "text": [
      "Lasso training error: 0.4927032661570535\n",
      "Lasso test error: 0.6375\n",
      "Minimum cross validation error: 0.4270785864288542\n",
      "Lasso tuninng parameter alpha: [0.01]\n",
      "Lasso Intercept term: 2.3599723364257983\n"
     ]
    },
    {
     "data": {
      "text/plain": [
       "<matplotlib.axes._subplots.AxesSubplot at 0x189a5cc5988>"
      ]
     },
     "execution_count": 28,
     "metadata": {},
     "output_type": "execute_result"
    },
    {
     "data": {
      "image/png": "[encoded data removed]",
      "text/plain": [
       "<Figure size 432x288 with 1 Axes>"
      ]
     },
     "metadata": {
      "needs_background": "light"
     },
     "output_type": "display_data"
    }
   ],
   "source": [
    "print(\"Lasso training error:\",lasso_training_error)\n",
    "print(\"Lasso test error:\",lasso_test_error)\n",
    "print(\"Minimum cross validation error:\",lasso_min_cv)\n",
    "print(\"Lasso tuninng parameter alpha:\",lasso_tuning)\n",
    "print(\"Lasso Intercept term:\",lasso_intercept)\n",
    "sns.scatterplot(x=\"log alphas\",y=\"cross_validation_errors\", data =lasso_cv_table)"
   ]
  },
  {
   "cell_type": "code",
   "execution_count": 29,
   "metadata": {
    "scrolled": true
   },
   "outputs": [
    {
     "data": {
      "text/html": [
       "<div>\n",
       "<style scoped>\n",
       "    .dataframe tbody tr th:only-of-type {\n",
       "        vertical-align: middle;\n",
       "    }\n",
       "\n",
       "    .dataframe tbody tr th {\n",
       "        vertical-align: top;\n",
       "    }\n",
       "\n",
       "    .dataframe thead th {\n",
       "        text-align: right;\n",
       "    }\n",
       "</style>\n",
       "<table border=\"1\" class=\"dataframe\">\n",
       "  <thead>\n",
       "    <tr style=\"text-align: right;\">\n",
       "      <th></th>\n",
       "      <th>feature</th>\n",
       "      <th>coefficient</th>\n",
       "    </tr>\n",
       "  </thead>\n",
       "  <tbody>\n",
       "    <tr>\n",
       "      <td>0</td>\n",
       "      <td>fixed acidity</td>\n",
       "      <td>0.029271</td>\n",
       "    </tr>\n",
       "    <tr>\n",
       "      <td>1</td>\n",
       "      <td>volatile acidity</td>\n",
       "      <td>-0.800837</td>\n",
       "    </tr>\n",
       "    <tr>\n",
       "      <td>2</td>\n",
       "      <td>citric acid</td>\n",
       "      <td>0.000000</td>\n",
       "    </tr>\n",
       "    <tr>\n",
       "      <td>3</td>\n",
       "      <td>residual sugar</td>\n",
       "      <td>-0.000000</td>\n",
       "    </tr>\n",
       "    <tr>\n",
       "      <td>4</td>\n",
       "      <td>chlorides</td>\n",
       "      <td>-0.000000</td>\n",
       "    </tr>\n",
       "    <tr>\n",
       "      <td>5</td>\n",
       "      <td>free sulfur dioxide</td>\n",
       "      <td>0.005832</td>\n",
       "    </tr>\n",
       "    <tr>\n",
       "      <td>6</td>\n",
       "      <td>total sulfur dioxide</td>\n",
       "      <td>-0.003187</td>\n",
       "    </tr>\n",
       "    <tr>\n",
       "      <td>7</td>\n",
       "      <td>density</td>\n",
       "      <td>-0.000000</td>\n",
       "    </tr>\n",
       "    <tr>\n",
       "      <td>8</td>\n",
       "      <td>pH</td>\n",
       "      <td>-0.000000</td>\n",
       "    </tr>\n",
       "    <tr>\n",
       "      <td>9</td>\n",
       "      <td>sulphates</td>\n",
       "      <td>0.402503</td>\n",
       "    </tr>\n",
       "    <tr>\n",
       "      <td>10</td>\n",
       "      <td>alcohol</td>\n",
       "      <td>0.311882</td>\n",
       "    </tr>\n",
       "  </tbody>\n",
       "</table>\n",
       "</div>"
      ],
      "text/plain": [
       "                 feature  coefficient\n",
       "0          fixed acidity     0.029271\n",
       "1       volatile acidity    -0.800837\n",
       "2            citric acid     0.000000\n",
       "3         residual sugar    -0.000000\n",
       "4              chlorides    -0.000000\n",
       "5    free sulfur dioxide     0.005832\n",
       "6   total sulfur dioxide    -0.003187\n",
       "7                density    -0.000000\n",
       "8                     pH    -0.000000\n",
       "9              sulphates     0.402503\n",
       "10               alcohol     0.311882"
      ]
     },
     "execution_count": 29,
     "metadata": {},
     "output_type": "execute_result"
    }
   ],
   "source": [
    "lasso_table"
   ]
  },
  {
   "cell_type": "markdown",
   "metadata": {},
   "source": [
    "# Elastic Net:"
   ]
  },
  {
   "cell_type": "code",
   "execution_count": 30,
   "metadata": {},
   "outputs": [
    {
     "name": "stdout",
     "output_type": "stream",
     "text": [
      "Elastic Net training error: 0.5378735232800556\n",
      "Elastic Net test error: 0.675\n",
      "Minimum cross validation error: 0.4561623915815776\n",
      "Elastic Net tuninng parameter alpha: 0.1\n",
      "Elastic Net tuninng parameter lambda: 0.1\n",
      "Elastic Net Intercept term: 2.0642716619728345\n"
     ]
    },
    {
     "data": {
      "text/plain": [
       "Text(0.5, 0, 'lambda')"
      ]
     },
     "execution_count": 30,
     "metadata": {},
     "output_type": "execute_result"
    },
    {
     "data": {
      "image/png": "[encoded data removed]",
      "text/plain": [
       "<Figure size 432x288 with 1 Axes>"
      ]
     },
     "metadata": {
      "needs_background": "light"
     },
     "output_type": "display_data"
    }
   ],
   "source": [
    "print(\"Elastic Net training error:\",EN_training_error)\n",
    "print(\"Elastic Net test error:\",EN_test_error)\n",
    "print(\"Minimum cross validation error:\",EN_min_cv)\n",
    "print(\"Elastic Net tuninng parameter alpha:\",EN_alpha)\n",
    "print(\"Elastic Net tuninng parameter lambda:\",EN_lambda)\n",
    "print(\"Elastic Net Intercept term:\",EN_intercept)\n",
    "fig = plt.figure()\n",
    "ax = fig.add_subplot(111, projection='3d')\n",
    "x=rpt_alphas\n",
    "y=rpt_l1\n",
    "z=validation_errors\n",
    "ax.plot(x,y,z, label=\"Cross Validation Errors\")\n",
    "plt.xlabel('alphas')\n",
    "plt.ylabel('lambda')"
   ]
  },
  {
   "cell_type": "code",
   "execution_count": 31,
   "metadata": {},
   "outputs": [
    {
     "data": {
      "text/html": [
       "<div>\n",
       "<style scoped>\n",
       "    .dataframe tbody tr th:only-of-type {\n",
       "        vertical-align: middle;\n",
       "    }\n",
       "\n",
       "    .dataframe tbody tr th {\n",
       "        vertical-align: top;\n",
       "    }\n",
       "\n",
       "    .dataframe thead th {\n",
       "        text-align: right;\n",
       "    }\n",
       "</style>\n",
       "<table border=\"1\" class=\"dataframe\">\n",
       "  <thead>\n",
       "    <tr style=\"text-align: right;\">\n",
       "      <th></th>\n",
       "      <th>feature</th>\n",
       "      <th>coefficient</th>\n",
       "    </tr>\n",
       "  </thead>\n",
       "  <tbody>\n",
       "    <tr>\n",
       "      <td>0</td>\n",
       "      <td>fixed acidity</td>\n",
       "      <td>0.047259</td>\n",
       "    </tr>\n",
       "    <tr>\n",
       "      <td>1</td>\n",
       "      <td>volatile acidity</td>\n",
       "      <td>-0.212793</td>\n",
       "    </tr>\n",
       "    <tr>\n",
       "      <td>2</td>\n",
       "      <td>citric acid</td>\n",
       "      <td>0.019021</td>\n",
       "    </tr>\n",
       "    <tr>\n",
       "      <td>3</td>\n",
       "      <td>residual sugar</td>\n",
       "      <td>-0.000000</td>\n",
       "    </tr>\n",
       "    <tr>\n",
       "      <td>4</td>\n",
       "      <td>chlorides</td>\n",
       "      <td>-0.000000</td>\n",
       "    </tr>\n",
       "    <tr>\n",
       "      <td>5</td>\n",
       "      <td>free sulfur dioxide</td>\n",
       "      <td>0.007472</td>\n",
       "    </tr>\n",
       "    <tr>\n",
       "      <td>6</td>\n",
       "      <td>total sulfur dioxide</td>\n",
       "      <td>-0.003582</td>\n",
       "    </tr>\n",
       "    <tr>\n",
       "      <td>7</td>\n",
       "      <td>density</td>\n",
       "      <td>-0.000000</td>\n",
       "    </tr>\n",
       "    <tr>\n",
       "      <td>8</td>\n",
       "      <td>pH</td>\n",
       "      <td>-0.000000</td>\n",
       "    </tr>\n",
       "    <tr>\n",
       "      <td>9</td>\n",
       "      <td>sulphates</td>\n",
       "      <td>0.130306</td>\n",
       "    </tr>\n",
       "    <tr>\n",
       "      <td>10</td>\n",
       "      <td>alcohol</td>\n",
       "      <td>0.312159</td>\n",
       "    </tr>\n",
       "  </tbody>\n",
       "</table>\n",
       "</div>"
      ],
      "text/plain": [
       "                 feature  coefficient\n",
       "0          fixed acidity     0.047259\n",
       "1       volatile acidity    -0.212793\n",
       "2            citric acid     0.019021\n",
       "3         residual sugar    -0.000000\n",
       "4              chlorides    -0.000000\n",
       "5    free sulfur dioxide     0.007472\n",
       "6   total sulfur dioxide    -0.003582\n",
       "7                density    -0.000000\n",
       "8                     pH    -0.000000\n",
       "9              sulphates     0.130306\n",
       "10               alcohol     0.312159"
      ]
     },
     "execution_count": 31,
     "metadata": {},
     "output_type": "execute_result"
    }
   ],
   "source": [
    "EN_table"
   ]
  },
  {
   "cell_type": "code",
   "execution_count": null,
   "metadata": {},
   "outputs": [],
   "source": []
  }
 ],
 "metadata": {
  "kernelspec": {
   "display_name": "Python 3",
   "language": "python",
   "name": "python3"
  },
  "language_info": {
   "codemirror_mode": {
    "name": "ipython",
    "version": 3
   },
   "file_extension": ".py",
   "mimetype": "text/x-python",
   "name": "python",
   "nbconvert_exporter": "python",
   "pygments_lexer": "ipython3",
   "version": "3.7.4"
  }
 },
 "nbformat": 4,
 "nbformat_minor": 2
}
