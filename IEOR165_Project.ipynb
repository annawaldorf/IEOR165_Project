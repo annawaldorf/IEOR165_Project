{
 "cells": [
  {
   "cell_type": "markdown",
   "metadata": {},
   "source": [
    "# IEOR 165 Final Project\n",
    "\n",
    "The authors of the following research paper: Cortez, A. Cerdeira, F. Almeida, T. Matos, and J. Reis, “Modeling wine preferences by data mining from physicochemical properties”,Decision Support Systems, vol. 47, no. 4:547-553, 2009. considered  the  problem  of  modeling  wine  preferences.   \n",
    "\n",
    "Wine can be evaluated by experts who give a subjective score, and the question the authors of this paper considered was how to build a model that relates objective features of the wine (e.g. pH values) to its rated quality.\n",
    "\n",
    "For this project, we will use the data set available at: http://courses.ieor.berkeley.edu/ieor165/homeworks/winequality-red.csv \n",
    "\n",
    "Use the following methods to identify the coefficients of a linear model relating wine quality to different features of the wine: (1) ordinary least squares (OLS), (2) ridge regression (RR), (3) lasso regression, (4) elastic net. Make sure to include a constant (intercept) term  in  your model, and choose the tuning parameters using cross-validation. You may use any programming language you would like to. For your solutions, please include (i) plots of tuning parameters versus cross-validation error, (ii) tables of coefficients (labeled by the feature) computed by eachmethod, (iii) the minimum cross-validation error for each method, and (iv) the source code used to generate the plots and coefficients."
   ]
  },
  {
   "cell_type": "code",
   "execution_count": 1,
   "metadata": {},
   "outputs": [],
   "source": [
    "import pandas as pd\n",
    "import numpy as np\n",
    "import matplotlib as mlp\n",
    "import matplotlib.pyplot as plt\n",
    "from mpl_toolkits.mplot3d import Axes3D\n",
    "import csv\n",
    "import re\n",
    "import seaborn as sns\n",
    "from scipy import stats\n",
    "import sklearn\n",
    "import sklearn.datasets\n",
    "from sklearn import linear_model\n",
    "from sklearn.linear_model import Lasso\n",
    "from sklearn.linear_model import Ridge\n",
    "from sklearn.model_selection import KFold\n",
    "from sklearn.linear_model import ElasticNet\n",
    "from sklearn.model_selection import train_test_split\n",
    "from sklearn.model_selection import cross_val_score"
   ]
  },
  {
   "cell_type": "markdown",
   "metadata": {},
   "source": [
    "# Loading Wine Data\n",
    "Loading the data and splitting it into the predictor variables or features (X) and the response variable quality score (Y).\n",
    "We then need to split the data into training and testing data so that we know how well our model is at predicting."
   ]
  },
  {
   "cell_type": "code",
   "execution_count": 2,
   "metadata": {},
   "outputs": [
    {
     "data": {
      "text/html": [
       "<div>\n",
       "<style scoped>\n",
       "    .dataframe tbody tr th:only-of-type {\n",
       "        vertical-align: middle;\n",
       "    }\n",
       "\n",
       "    .dataframe tbody tr th {\n",
       "        vertical-align: top;\n",
       "    }\n",
       "\n",
       "    .dataframe thead th {\n",
       "        text-align: right;\n",
       "    }\n",
       "</style>\n",
       "<table border=\"1\" class=\"dataframe\">\n",
       "  <thead>\n",
       "    <tr style=\"text-align: right;\">\n",
       "      <th></th>\n",
       "      <th>fixed acidity</th>\n",
       "      <th>volatile acidity</th>\n",
       "      <th>citric acid</th>\n",
       "      <th>residual sugar</th>\n",
       "      <th>chlorides</th>\n",
       "      <th>free sulfur dioxide</th>\n",
       "      <th>total sulfur dioxide</th>\n",
       "      <th>density</th>\n",
       "      <th>pH</th>\n",
       "      <th>sulphates</th>\n",
       "      <th>alcohol</th>\n",
       "      <th>quality</th>\n",
       "    </tr>\n",
       "  </thead>\n",
       "  <tbody>\n",
       "    <tr>\n",
       "      <td>0</td>\n",
       "      <td>7.4</td>\n",
       "      <td>0.700</td>\n",
       "      <td>0.00</td>\n",
       "      <td>1.9</td>\n",
       "      <td>0.076</td>\n",
       "      <td>11.0</td>\n",
       "      <td>34.0</td>\n",
       "      <td>0.99780</td>\n",
       "      <td>3.51</td>\n",
       "      <td>0.56</td>\n",
       "      <td>9.4</td>\n",
       "      <td>5</td>\n",
       "    </tr>\n",
       "    <tr>\n",
       "      <td>1</td>\n",
       "      <td>7.8</td>\n",
       "      <td>0.880</td>\n",
       "      <td>0.00</td>\n",
       "      <td>2.6</td>\n",
       "      <td>0.098</td>\n",
       "      <td>25.0</td>\n",
       "      <td>67.0</td>\n",
       "      <td>0.99680</td>\n",
       "      <td>3.20</td>\n",
       "      <td>0.68</td>\n",
       "      <td>9.8</td>\n",
       "      <td>5</td>\n",
       "    </tr>\n",
       "    <tr>\n",
       "      <td>2</td>\n",
       "      <td>7.8</td>\n",
       "      <td>0.760</td>\n",
       "      <td>0.04</td>\n",
       "      <td>2.3</td>\n",
       "      <td>0.092</td>\n",
       "      <td>15.0</td>\n",
       "      <td>54.0</td>\n",
       "      <td>0.99700</td>\n",
       "      <td>3.26</td>\n",
       "      <td>0.65</td>\n",
       "      <td>9.8</td>\n",
       "      <td>5</td>\n",
       "    </tr>\n",
       "    <tr>\n",
       "      <td>3</td>\n",
       "      <td>11.2</td>\n",
       "      <td>0.280</td>\n",
       "      <td>0.56</td>\n",
       "      <td>1.9</td>\n",
       "      <td>0.075</td>\n",
       "      <td>17.0</td>\n",
       "      <td>60.0</td>\n",
       "      <td>0.99800</td>\n",
       "      <td>3.16</td>\n",
       "      <td>0.58</td>\n",
       "      <td>9.8</td>\n",
       "      <td>6</td>\n",
       "    </tr>\n",
       "    <tr>\n",
       "      <td>4</td>\n",
       "      <td>7.4</td>\n",
       "      <td>0.700</td>\n",
       "      <td>0.00</td>\n",
       "      <td>1.9</td>\n",
       "      <td>0.076</td>\n",
       "      <td>11.0</td>\n",
       "      <td>34.0</td>\n",
       "      <td>0.99780</td>\n",
       "      <td>3.51</td>\n",
       "      <td>0.56</td>\n",
       "      <td>9.4</td>\n",
       "      <td>5</td>\n",
       "    </tr>\n",
       "    <tr>\n",
       "      <td>...</td>\n",
       "      <td>...</td>\n",
       "      <td>...</td>\n",
       "      <td>...</td>\n",
       "      <td>...</td>\n",
       "      <td>...</td>\n",
       "      <td>...</td>\n",
       "      <td>...</td>\n",
       "      <td>...</td>\n",
       "      <td>...</td>\n",
       "      <td>...</td>\n",
       "      <td>...</td>\n",
       "      <td>...</td>\n",
       "    </tr>\n",
       "    <tr>\n",
       "      <td>1594</td>\n",
       "      <td>6.2</td>\n",
       "      <td>0.600</td>\n",
       "      <td>0.08</td>\n",
       "      <td>2.0</td>\n",
       "      <td>0.090</td>\n",
       "      <td>32.0</td>\n",
       "      <td>44.0</td>\n",
       "      <td>0.99490</td>\n",
       "      <td>3.45</td>\n",
       "      <td>0.58</td>\n",
       "      <td>10.5</td>\n",
       "      <td>5</td>\n",
       "    </tr>\n",
       "    <tr>\n",
       "      <td>1595</td>\n",
       "      <td>5.9</td>\n",
       "      <td>0.550</td>\n",
       "      <td>0.10</td>\n",
       "      <td>2.2</td>\n",
       "      <td>0.062</td>\n",
       "      <td>39.0</td>\n",
       "      <td>51.0</td>\n",
       "      <td>0.99512</td>\n",
       "      <td>3.52</td>\n",
       "      <td>0.76</td>\n",
       "      <td>11.2</td>\n",
       "      <td>6</td>\n",
       "    </tr>\n",
       "    <tr>\n",
       "      <td>1596</td>\n",
       "      <td>6.3</td>\n",
       "      <td>0.510</td>\n",
       "      <td>0.13</td>\n",
       "      <td>2.3</td>\n",
       "      <td>0.076</td>\n",
       "      <td>29.0</td>\n",
       "      <td>40.0</td>\n",
       "      <td>0.99574</td>\n",
       "      <td>3.42</td>\n",
       "      <td>0.75</td>\n",
       "      <td>11.0</td>\n",
       "      <td>6</td>\n",
       "    </tr>\n",
       "    <tr>\n",
       "      <td>1597</td>\n",
       "      <td>5.9</td>\n",
       "      <td>0.645</td>\n",
       "      <td>0.12</td>\n",
       "      <td>2.0</td>\n",
       "      <td>0.075</td>\n",
       "      <td>32.0</td>\n",
       "      <td>44.0</td>\n",
       "      <td>0.99547</td>\n",
       "      <td>3.57</td>\n",
       "      <td>0.71</td>\n",
       "      <td>10.2</td>\n",
       "      <td>5</td>\n",
       "    </tr>\n",
       "    <tr>\n",
       "      <td>1598</td>\n",
       "      <td>6.0</td>\n",
       "      <td>0.310</td>\n",
       "      <td>0.47</td>\n",
       "      <td>3.6</td>\n",
       "      <td>0.067</td>\n",
       "      <td>18.0</td>\n",
       "      <td>42.0</td>\n",
       "      <td>0.99549</td>\n",
       "      <td>3.39</td>\n",
       "      <td>0.66</td>\n",
       "      <td>11.0</td>\n",
       "      <td>6</td>\n",
       "    </tr>\n",
       "  </tbody>\n",
       "</table>\n",
       "<p>1599 rows × 12 columns</p>\n",
       "</div>"
      ],
      "text/plain": [
       "      fixed acidity  volatile acidity  citric acid  residual sugar  chlorides  \\\n",
       "0               7.4             0.700         0.00             1.9      0.076   \n",
       "1               7.8             0.880         0.00             2.6      0.098   \n",
       "2               7.8             0.760         0.04             2.3      0.092   \n",
       "3              11.2             0.280         0.56             1.9      0.075   \n",
       "4               7.4             0.700         0.00             1.9      0.076   \n",
       "...             ...               ...          ...             ...        ...   \n",
       "1594            6.2             0.600         0.08             2.0      0.090   \n",
       "1595            5.9             0.550         0.10             2.2      0.062   \n",
       "1596            6.3             0.510         0.13             2.3      0.076   \n",
       "1597            5.9             0.645         0.12             2.0      0.075   \n",
       "1598            6.0             0.310         0.47             3.6      0.067   \n",
       "\n",
       "      free sulfur dioxide  total sulfur dioxide  density    pH  sulphates  \\\n",
       "0                    11.0                  34.0  0.99780  3.51       0.56   \n",
       "1                    25.0                  67.0  0.99680  3.20       0.68   \n",
       "2                    15.0                  54.0  0.99700  3.26       0.65   \n",
       "3                    17.0                  60.0  0.99800  3.16       0.58   \n",
       "4                    11.0                  34.0  0.99780  3.51       0.56   \n",
       "...                   ...                   ...      ...   ...        ...   \n",
       "1594                 32.0                  44.0  0.99490  3.45       0.58   \n",
       "1595                 39.0                  51.0  0.99512  3.52       0.76   \n",
       "1596                 29.0                  40.0  0.99574  3.42       0.75   \n",
       "1597                 32.0                  44.0  0.99547  3.57       0.71   \n",
       "1598                 18.0                  42.0  0.99549  3.39       0.66   \n",
       "\n",
       "      alcohol  quality  \n",
       "0         9.4        5  \n",
       "1         9.8        5  \n",
       "2         9.8        5  \n",
       "3         9.8        6  \n",
       "4         9.4        5  \n",
       "...       ...      ...  \n",
       "1594     10.5        5  \n",
       "1595     11.2        6  \n",
       "1596     11.0        6  \n",
       "1597     10.2        5  \n",
       "1598     11.0        6  \n",
       "\n",
       "[1599 rows x 12 columns]"
      ]
     },
     "execution_count": 2,
     "metadata": {},
     "output_type": "execute_result"
    }
   ],
   "source": [
    "wine_data = pd.read_csv(\"winequality-red.csv\")"
   ]
  },
  {
   "cell_type": "code",
   "execution_count": 3,
   "metadata": {},
   "outputs": [],
   "source": [
    "X = wine_data.iloc[:, 0:11]\n",
    "Y = wine_data.iloc[:,11]"
   ]
  },
  {
   "cell_type": "code",
   "execution_count": 4,
   "metadata": {},
   "outputs": [],
   "source": [
    "from sklearn.model_selection import train_test_split\n",
    "X_train, X_test, Y_train, Y_test = train_test_split(X, Y, test_size = 0.10)"
   ]
  },
  {
   "cell_type": "markdown",
   "metadata": {},
   "source": [
    "# Ordinary Least Squares Model\n",
    "Given by argmin(($ ||Y - Xbeta||^2_2)$and without any regularization.\n",
    "\n",
    "I am using scikit learn machine learning library built in linear regression model fitting.\n",
    "\n",
    "\"LinearRegression fits a linear model with coefficients w = (w1, …, wp) to minimize the residual sum of squares between the observed targets in the dataset, and the targets predicted by the linear approximation.\"\n",
    "    From: https://scikit-learn.org/stable/modules/generated/sklearn.linear_model.LinearRegression.html"
   ]
  },
  {
   "cell_type": "code",
   "execution_count": 5,
   "metadata": {},
   "outputs": [
    {
     "data": {
      "text/plain": [
       "LinearRegression(copy_X=True, fit_intercept=True, n_jobs=None, normalize=False)"
      ]
     },
     "execution_count": 5,
     "metadata": {},
     "output_type": "execute_result"
    }
   ],
   "source": [
    "#fitting the model with built in intercept\n",
    "ordinary_linear_model = linear_model.LinearRegression(fit_intercept=True)\n",
    "\n",
    "ordinary_linear_model.fit(X_train,Y_train)"
   ]
  },
  {
   "cell_type": "code",
   "execution_count": 6,
   "metadata": {},
   "outputs": [],
   "source": [
    "ols_coef = ordinary_linear_model.coef_\n",
    "columns = X.columns\n",
    "OLS_table = pd.DataFrame(columns=[\"feature\", \"coefficient\"])\n",
    "OLS_table[\"feature\"]=columns\n",
    "OLS_table[\"coefficient\"]=ols_coef\n",
    "ols_intercept = ordinary_linear_model.intercept_"
   ]
  },
  {
   "cell_type": "code",
   "execution_count": 7,
   "metadata": {},
   "outputs": [],
   "source": [
    "#cross validation even though we aren't finding hyperparameters\n",
    "scores = cross_val_score(ordinary_linear_model, X_train, Y_train, cv=10,scoring='neg_mean_squared_error')\n",
    "scores = np.abs(scores)\n",
    "ols_min_cv = min(scores)"
   ]
  },
  {
   "cell_type": "code",
   "execution_count": 8,
   "metadata": {},
   "outputs": [],
   "source": [
    "#rounding predictions since they are only whole numbers\n",
    "train_predictions = ordinary_linear_model.predict(X_train)\n",
    "train_predictions = np.around(train_predictions, decimals=0)\n",
    "train_predictions = train_predictions.astype(int)\n",
    "test_predictions = ordinary_linear_model.predict(X_test)\n",
    "test_predictions = np.around(test_predictions, decimals=0)\n",
    "test_predictions = test_predictions.astype(int)"
   ]
  },
  {
   "cell_type": "code",
   "execution_count": 9,
   "metadata": {},
   "outputs": [],
   "source": [
    "def mse_cost(y_pred, y_actual):\n",
    "    return np.mean((y_pred - y_actual) ** 2)"
   ]
  },
  {
   "cell_type": "code",
   "execution_count": 10,
   "metadata": {},
   "outputs": [],
   "source": [
    "ols_training_error=mse_cost(Y_train, train_predictions)\n",
    "ols_test_error=mse_cost(Y_test, test_predictions)"
   ]
  },
  {
   "cell_type": "markdown",
   "metadata": {},
   "source": [
    "# Ridge Regression\n",
    "\n",
    "   Given by argmin $ ||y - Xbeta||^2_2 + alpha * ||beta||^2_2 $ where alpha is the tuning parameter we will be finding using cross validation to minimize prediction error.\n",
    "\n",
    "I am using scikit learn machine learning library built in ridge regression model fitting.\n",
    "\n",
    "\"This model solves a regression model where the loss function is the linear least squares function and regularization is given by the l2-norm.\" From: https://scikit-learn.org/stable/modules/generated/sklearn.linear_model.Ridge.html#sklearn.linear_model.Ridge"
   ]
  },
  {
   "cell_type": "markdown",
   "metadata": {},
   "source": [
    "# Using kfold cross validation with k=10 to find best tuning parameter for Ridge"
   ]
  },
  {
   "cell_type": "code",
   "execution_count": 11,
   "metadata": {},
   "outputs": [],
   "source": [
    "alphas=np.arange(-10,10,.1)\n",
    "validation_errors =[]\n",
    "for alpha in alphas:\n",
    "    ridge_linear_model = Ridge(alpha=alpha, fit_intercept = True)\n",
    "    scores = cross_val_score(ridge_linear_model, X_train,Y_train, cv=10,scoring='neg_mean_squared_error')\n",
    "    validation_errors.append(np.mean(scores))\n",
    "validation_errors=np.abs(validation_errors)"
   ]
  },
  {
   "cell_type": "code",
   "execution_count": 12,
   "metadata": {},
   "outputs": [
    {
     "name": "stderr",
     "output_type": "stream",
     "text": [
      "C:\\Users\\annaw\\Anaconda3\\lib\\site-packages\\ipykernel_launcher.py:6: RuntimeWarning: invalid value encountered in log10\n",
      "  \n"
     ]
    },
    {
     "data": {
      "text/plain": [
       "<matplotlib.axes._subplots.AxesSubplot at 0x266911dd0c8>"
      ]
     },
     "execution_count": 12,
     "metadata": {},
     "output_type": "execute_result"
    },
    {
     "data": {
      "image/png": "[encoded data removed]",
      "text/plain": [
       "<Figure size 432x288 with 1 Axes>"
      ]
     },
     "metadata": {
      "needs_background": "light"
     },
     "output_type": "display_data"
    }
   ],
   "source": [
    "ridge_cv_table=pd.DataFrame(data=alphas)\n",
    "ridge_cv_table = ridge_cv_table.rename({0:'alphas'},axis=1)\n",
    "ridge_cv_table['cross_validation_errors']=validation_errors\n",
    "ridge_min_cv = min(ridge_cv_table['cross_validation_errors'])\n",
    "ridge_tuning = ridge_cv_table[ridge_cv_table['cross_validation_errors']==ridge_min_cv]['alphas'].values\n",
    "ridge_cv_table['log alphas']=np.log10(alphas)\n",
    "sns.scatterplot(x=\"log alphas\",y=\"cross_validation_errors\", data = ridge_cv_table)"
   ]
  },
  {
   "cell_type": "code",
   "execution_count": 13,
   "metadata": {},
   "outputs": [],
   "source": [
    "final_ridge_linear_model = Ridge(fit_intercept = True, alpha=ridge_tuning)\n",
    "final_ridge_linear_model.fit(X_train,Y_train)\n",
    "ridge_coef = final_ridge_linear_model.coef_\n",
    "ridge_intercept = final_ridge_linear_model.intercept_\n",
    "columns = X.columns\n",
    "ridge_table = pd.DataFrame(columns=[\"feature\", \"coefficient\"])\n",
    "ridge_table[\"feature\"]=columns\n",
    "ridge_table[\"coefficient\"]=ridge_coef"
   ]
  },
  {
   "cell_type": "code",
   "execution_count": 14,
   "metadata": {},
   "outputs": [],
   "source": [
    "#rounding predictions since they are only whole numbers\n",
    "train_predictions = final_ridge_linear_model.predict(X_train)\n",
    "train_predictions = np.around(train_predictions, decimals=0)\n",
    "train_predictions = train_predictions.astype(int)\n",
    "test_predictions = final_ridge_linear_model.predict(X_test)\n",
    "test_predictions = np.around(test_predictions, decimals=0)\n",
    "test_predictions = test_predictions.astype(int)\n",
    "ridge_training_error=mse_cost(Y_train, train_predictions)\n",
    "ridge_test_error=mse_cost(Y_test, test_predictions)"
   ]
  },
  {
   "cell_type": "markdown",
   "metadata": {},
   "source": [
    "# Lasso Regression\n",
    "\n",
    "   Given by argmin $ ||y - Xbeta||^2_2 + alpha * ||beta||_1 $ where alpha is the tuning parameter we will be finding using cross validation to minimize prediction error.\n",
    "\n",
    "I am using scikit learn machine learning library built in lasso regression model fitting. From: https://scikit-learn.org/stable/modules/generated/sklearn.linear_model.Lasso.html#sklearn.linear_model.Lasso"
   ]
  },
  {
   "cell_type": "markdown",
   "metadata": {},
   "source": [
    "# Using kfold cross validation with k=10 to find best tuning parameter for Lasso"
   ]
  },
  {
   "cell_type": "code",
   "execution_count": 15,
   "metadata": {},
   "outputs": [],
   "source": [
    "alphas=np.arange(0.01,1,.01)\n",
    "validation_errors =[]\n",
    "for alpha in alphas:\n",
    "    lasso_linear_model = Lasso(alpha=alpha, fit_intercept = True)\n",
    "    scores = cross_val_score(lasso_linear_model, X_train,Y_train, cv=10,scoring='neg_mean_squared_error')\n",
    "    validation_errors.append(np.mean(scores))\n",
    "validation_errors=np.abs(validation_errors)"
   ]
  },
  {
   "cell_type": "code",
   "execution_count": 16,
   "metadata": {},
   "outputs": [
    {
     "data": {
      "text/plain": [
       "<matplotlib.axes._subplots.AxesSubplot at 0x2669127fd88>"
      ]
     },
     "execution_count": 16,
     "metadata": {},
     "output_type": "execute_result"
    },
    {
     "data": {
      "image/png": "[encoded data removed]",
      "text/plain": [
       "<Figure size 432x288 with 1 Axes>"
      ]
     },
     "metadata": {
      "needs_background": "light"
     },
     "output_type": "display_data"
    }
   ],
   "source": [
    "lasso_cv_table=pd.DataFrame(data=alphas)\n",
    "lasso_cv_table = lasso_cv_table.rename({0:'alphas'},axis=1)\n",
    "lasso_cv_table['cross_validation_errors']=validation_errors\n",
    "lasso_min_cv = min(lasso_cv_table['cross_validation_errors'])\n",
    "lasso_tuning = lasso_cv_table[lasso_cv_table['cross_validation_errors']==lasso_min_cv]['alphas'].values\n",
    "lasso_cv_table['log alphas']=np.log10(alphas)\n",
    "sns.scatterplot(x=\"log alphas\",y=\"cross_validation_errors\", data =lasso_cv_table)"
   ]
  },
  {
   "cell_type": "code",
   "execution_count": 17,
   "metadata": {},
   "outputs": [],
   "source": [
    "final_lasso_linear_model = Lasso(fit_intercept = True, alpha=lasso_tuning)\n",
    "final_lasso_linear_model.fit(X_train,Y_train)\n",
    "lasso_coef = final_lasso_linear_model.coef_\n",
    "lasso_intercept = final_lasso_linear_model.intercept_\n",
    "columns = X.columns\n",
    "lasso_table = pd.DataFrame(columns=[\"feature\", \"coefficient\"])\n",
    "lasso_table[\"feature\"]=columns\n",
    "lasso_table[\"coefficient\"]=lasso_coef"
   ]
  },
  {
   "cell_type": "code",
   "execution_count": 18,
   "metadata": {},
   "outputs": [],
   "source": [
    "#rounding predictions since they are only whole numbers\n",
    "train_predictions = final_lasso_linear_model.predict(X_train)\n",
    "train_predictions = np.around(train_predictions, decimals=0)\n",
    "train_predictions = train_predictions.astype(int)\n",
    "test_predictions = final_lasso_linear_model.predict(X_test)\n",
    "test_predictions = np.around(test_predictions, decimals=0)\n",
    "test_predictions = test_predictions.astype(int)\n",
    "lasso_training_error=mse_cost(Y_train, train_predictions)\n",
    "lasso_test_error=mse_cost(Y_test, test_predictions)"
   ]
  },
  {
   "cell_type": "markdown",
   "metadata": {},
   "source": [
    "# Elastic Net Regression\n",
    "\n",
    "   Given by argmin $ ||y - Xbeta||^2_2 + alpha * ||beta||^2_2 + lambda * ||beta||_1 $ where alpha and lambda are the tuning parameters we will be finding using cross validation to minimize prediction error. Elastic net is combing the penalty functions from Lasso and Ridge regression\n",
    "\n",
    "I am using scikit learn machine learning library built in elastic net regression model fitting. From: https://scikit-learn.org/stable/modules/generated/sklearn.linear_model.ElasticNet.html"
   ]
  },
  {
   "cell_type": "code",
   "execution_count": 19,
   "metadata": {},
   "outputs": [
    {
     "data": {
      "text/plain": [
       "array([0.4762744 , 0.48415508, 0.49210262, 0.49953594, 0.50111751,\n",
       "       0.50248895, 0.50404827, 0.5058087 , 0.50777681, 0.49291659,\n",
       "       0.50314796, 0.50675136, 0.51061668, 0.51525386, 0.52072276,\n",
       "       0.52708997, 0.53442868, 0.54171366, 0.50334223, 0.51130673,\n",
       "       0.51793207, 0.5262214 , 0.53635519, 0.54725063, 0.55685408,\n",
       "       0.56784263, 0.5806806 , 0.51150551, 0.52038592, 0.53139993,\n",
       "       0.54537979, 0.55843044, 0.572335  , 0.58910279, 0.60923587,\n",
       "       0.63220037, 0.51825769, 0.53030651, 0.5464153 , 0.56278587,\n",
       "       0.58002567, 0.60134234, 0.62757685, 0.63610019, 0.6369651 ,\n",
       "       0.52467147, 0.54070645, 0.56079481, 0.57975376, 0.60361322,\n",
       "       0.63267736, 0.63650887, 0.63725058, 0.63727977, 0.53111056,\n",
       "       0.55133758, 0.57319529, 0.59746071, 0.62863666, 0.6365108 ,\n",
       "       0.6372882 , 0.63724819, 0.63722214, 0.53747878, 0.56186039,\n",
       "       0.58560799, 0.61559986, 0.6361073 , 0.63725042, 0.63724811,\n",
       "       0.637233  , 0.63732387, 0.54371589, 0.57087496, 0.59799574,\n",
       "       0.63317493, 0.63696787, 0.6372793 , 0.6372228 , 0.63732425,\n",
       "       0.63744059])"
      ]
     },
     "execution_count": 19,
     "metadata": {},
     "output_type": "execute_result"
    }
   ],
   "source": [
    "alphas=np.arange(0.1,1,.1)\n",
    "validation_errors =[]\n",
    "for alpha in alphas:\n",
    "    for beta in alphas:\n",
    "        EN_linear_model = ElasticNet(alpha=alpha, l1_ratio=beta, fit_intercept = True)\n",
    "        scores = cross_val_score(EN_linear_model, X_train, Y_train, cv=10,scoring='neg_mean_squared_error')\n",
    "        validation_errors.append(np.mean(scores))\n",
    "validation_errors=np.abs(validation_errors)"
   ]
  },
  {
   "cell_type": "code",
   "execution_count": 20,
   "metadata": {},
   "outputs": [],
   "source": [
    "rpt_alphas=[]\n",
    "for i in alphas:\n",
    "    rpt_alphas.append(alphas)\n",
    "rpt_alphas = np.concatenate(rpt_alphas)\n",
    "rpt_l1=[]\n",
    "for i in alphas:\n",
    "    for j in alphas:\n",
    "        rpt_l1.append(i)"
   ]
  },
  {
   "cell_type": "code",
   "execution_count": 21,
   "metadata": {},
   "outputs": [],
   "source": [
    "EN_cv_table=pd.DataFrame(data=rpt_alphas)\n",
    "EN_cv_table = EN_cv_table.rename({0:'alphas'},axis=1)\n",
    "EN_cv_table['lambdas']=rpt_l1\n",
    "EN_cv_table['cross_validation_errors']=validation_errors\n",
    "EN_min_cv = min(EN_cv_table['cross_validation_errors'])\n",
    "EN_tuning = EN_cv_table[EN_cv_table['cross_validation_errors']==EN_min_cv][['alphas', 'lambdas']].values\n",
    "EN_alpha = EN_tuning[0,0]\n",
    "EN_lambda = EN_tuning[0,1]"
   ]
  },
  {
   "cell_type": "code",
   "execution_count": 22,
   "metadata": {},
   "outputs": [
    {
     "data": {
      "text/plain": [
       "Text(0.5, 0, 'lambda')"
      ]
     },
     "execution_count": 22,
     "metadata": {},
     "output_type": "execute_result"
    },
    {
     "data": {
      "image/png": "[encoded data removed]",
      "text/plain": [
       "<Figure size 432x288 with 1 Axes>"
      ]
     },
     "metadata": {
      "needs_background": "light"
     },
     "output_type": "display_data"
    }
   ],
   "source": [
    "fig = plt.figure()\n",
    "ax = fig.add_subplot(111, projection='3d')\n",
    "x=rpt_alphas\n",
    "y=rpt_l1\n",
    "z=validation_errors\n",
    "ax.plot(x,y,z, label=\"Cross Validation Errors\")\n",
    "plt.xlabel('alphas')\n",
    "plt.ylabel('lambda')"
   ]
  },
  {
   "cell_type": "code",
   "execution_count": 23,
   "metadata": {},
   "outputs": [],
   "source": [
    "final_EN_linear_model = ElasticNet(fit_intercept = True, alpha=EN_alpha, l1_ratio=EN_lambda)\n",
    "final_EN_linear_model.fit(X_train,Y_train)\n",
    "EN_coef = final_EN_linear_model.coef_\n",
    "EN_intercept = final_EN_linear_model.intercept_\n",
    "columns = X.columns\n",
    "EN_table = pd.DataFrame(columns=[\"feature\", \"coefficient\"])\n",
    "EN_table[\"feature\"]=columns\n",
    "EN_table[\"coefficient\"]=EN_coef"
   ]
  },
  {
   "cell_type": "code",
   "execution_count": 24,
   "metadata": {},
   "outputs": [],
   "source": [
    "#rounding predictions since they are only whole numbers\n",
    "train_predictions = final_EN_linear_model.predict(X_train)\n",
    "train_predictions = np.around(train_predictions, decimals=0)\n",
    "train_predictions = train_predictions.astype(int)\n",
    "test_predictions = final_EN_linear_model.predict(X_test)\n",
    "test_predictions = np.around(test_predictions, decimals=0)\n",
    "test_predictions = test_predictions.astype(int)\n",
    "EN_training_error=mse_cost(Y_train, train_predictions)\n",
    "EN_test_error=mse_cost(Y_test, test_predictions)"
   ]
  },
  {
   "cell_type": "markdown",
   "metadata": {},
   "source": [
    "# Concise Portrayal of Information from Modeling\n",
    "Concluding report of differing models"
   ]
  },
  {
   "cell_type": "markdown",
   "metadata": {},
   "source": [
    "# OLS"
   ]
  },
  {
   "cell_type": "code",
   "execution_count": 25,
   "metadata": {},
   "outputs": [
    {
     "name": "stdout",
     "output_type": "stream",
     "text": [
      "OLS training error: 0.51772063933287\n",
      "OLS test error: 0.375\n",
      "Minimum cross validation error: 0.3634614680699564\n",
      "OLS Intercept term: 11.886418041806401\n"
     ]
    },
    {
     "data": {
      "text/html": [
       "<div>\n",
       "<style scoped>\n",
       "    .dataframe tbody tr th:only-of-type {\n",
       "        vertical-align: middle;\n",
       "    }\n",
       "\n",
       "    .dataframe tbody tr th {\n",
       "        vertical-align: top;\n",
       "    }\n",
       "\n",
       "    .dataframe thead th {\n",
       "        text-align: right;\n",
       "    }\n",
       "</style>\n",
       "<table border=\"1\" class=\"dataframe\">\n",
       "  <thead>\n",
       "    <tr style=\"text-align: right;\">\n",
       "      <th></th>\n",
       "      <th>feature</th>\n",
       "      <th>coefficient</th>\n",
       "    </tr>\n",
       "  </thead>\n",
       "  <tbody>\n",
       "    <tr>\n",
       "      <td>0</td>\n",
       "      <td>fixed acidity</td>\n",
       "      <td>0.019975</td>\n",
       "    </tr>\n",
       "    <tr>\n",
       "      <td>1</td>\n",
       "      <td>volatile acidity</td>\n",
       "      <td>-1.162244</td>\n",
       "    </tr>\n",
       "    <tr>\n",
       "      <td>2</td>\n",
       "      <td>citric acid</td>\n",
       "      <td>-0.190837</td>\n",
       "    </tr>\n",
       "    <tr>\n",
       "      <td>3</td>\n",
       "      <td>residual sugar</td>\n",
       "      <td>0.004013</td>\n",
       "    </tr>\n",
       "    <tr>\n",
       "      <td>4</td>\n",
       "      <td>chlorides</td>\n",
       "      <td>-1.836079</td>\n",
       "    </tr>\n",
       "    <tr>\n",
       "      <td>5</td>\n",
       "      <td>free sulfur dioxide</td>\n",
       "      <td>0.004501</td>\n",
       "    </tr>\n",
       "    <tr>\n",
       "      <td>6</td>\n",
       "      <td>total sulfur dioxide</td>\n",
       "      <td>-0.002901</td>\n",
       "    </tr>\n",
       "    <tr>\n",
       "      <td>7</td>\n",
       "      <td>density</td>\n",
       "      <td>-7.729597</td>\n",
       "    </tr>\n",
       "    <tr>\n",
       "      <td>8</td>\n",
       "      <td>pH</td>\n",
       "      <td>-0.410666</td>\n",
       "    </tr>\n",
       "    <tr>\n",
       "      <td>9</td>\n",
       "      <td>sulphates</td>\n",
       "      <td>0.865529</td>\n",
       "    </tr>\n",
       "    <tr>\n",
       "      <td>10</td>\n",
       "      <td>alcohol</td>\n",
       "      <td>0.283728</td>\n",
       "    </tr>\n",
       "  </tbody>\n",
       "</table>\n",
       "</div>"
      ],
      "text/plain": [
       "                 feature  coefficient\n",
       "0          fixed acidity     0.019975\n",
       "1       volatile acidity    -1.162244\n",
       "2            citric acid    -0.190837\n",
       "3         residual sugar     0.004013\n",
       "4              chlorides    -1.836079\n",
       "5    free sulfur dioxide     0.004501\n",
       "6   total sulfur dioxide    -0.002901\n",
       "7                density    -7.729597\n",
       "8                     pH    -0.410666\n",
       "9              sulphates     0.865529\n",
       "10               alcohol     0.283728"
      ]
     },
     "execution_count": 25,
     "metadata": {},
     "output_type": "execute_result"
    }
   ],
   "source": [
    "print(\"OLS training error:\",ols_training_error)\n",
    "print(\"OLS test error:\",ols_test_error)\n",
    "print(\"Minimum cross validation error:\",ols_min_cv)\n",
    "print(\"OLS Intercept term:\",ols_intercept)\n",
    "OLS_table"
   ]
  },
  {
   "cell_type": "markdown",
   "metadata": {},
   "source": [
    "# Ridge:"
   ]
  },
  {
   "cell_type": "code",
   "execution_count": 26,
   "metadata": {},
   "outputs": [
    {
     "name": "stdout",
     "output_type": "stream",
     "text": [
      "Ridge training error: 0.5107713690062543\n",
      "Ridge test error: 0.375\n",
      "Minimum cross validation error: 0.43353387560561385\n",
      "Ridge tuninng parameter alpha: [0.3]\n",
      "Ridge Intercept term: 4.222308633353361\n"
     ]
    },
    {
     "data": {
      "text/plain": [
       "<matplotlib.axes._subplots.AxesSubplot at 0x2669140e688>"
      ]
     },
     "execution_count": 26,
     "metadata": {},
     "output_type": "execute_result"
    },
    {
     "data": {
      "image/png": "[encoded data removed]",
      "text/plain": [
       "<Figure size 432x288 with 1 Axes>"
      ]
     },
     "metadata": {
      "needs_background": "light"
     },
     "output_type": "display_data"
    }
   ],
   "source": [
    "print(\"Ridge training error:\",ridge_training_error)\n",
    "print(\"Ridge test error:\",ridge_test_error)\n",
    "print(\"Minimum cross validation error:\",ridge_min_cv)\n",
    "print(\"Ridge tuninng parameter alpha:\",ridge_tuning)\n",
    "print(\"Ridge Intercept term:\",ridge_intercept)\n",
    "sns.scatterplot(x=\"log alphas\",y=\"cross_validation_errors\", data = ridge_cv_table)"
   ]
  },
  {
   "cell_type": "code",
   "execution_count": 27,
   "metadata": {},
   "outputs": [
    {
     "data": {
      "text/html": [
       "<div>\n",
       "<style scoped>\n",
       "    .dataframe tbody tr th:only-of-type {\n",
       "        vertical-align: middle;\n",
       "    }\n",
       "\n",
       "    .dataframe tbody tr th {\n",
       "        vertical-align: top;\n",
       "    }\n",
       "\n",
       "    .dataframe thead th {\n",
       "        text-align: right;\n",
       "    }\n",
       "</style>\n",
       "<table border=\"1\" class=\"dataframe\">\n",
       "  <thead>\n",
       "    <tr style=\"text-align: right;\">\n",
       "      <th></th>\n",
       "      <th>feature</th>\n",
       "      <th>coefficient</th>\n",
       "    </tr>\n",
       "  </thead>\n",
       "  <tbody>\n",
       "    <tr>\n",
       "      <td>0</td>\n",
       "      <td>fixed acidity</td>\n",
       "      <td>0.014851</td>\n",
       "    </tr>\n",
       "    <tr>\n",
       "      <td>1</td>\n",
       "      <td>volatile acidity</td>\n",
       "      <td>-1.173424</td>\n",
       "    </tr>\n",
       "    <tr>\n",
       "      <td>2</td>\n",
       "      <td>citric acid</td>\n",
       "      <td>-0.199628</td>\n",
       "    </tr>\n",
       "    <tr>\n",
       "      <td>3</td>\n",
       "      <td>residual sugar</td>\n",
       "      <td>0.000318</td>\n",
       "    </tr>\n",
       "    <tr>\n",
       "      <td>4</td>\n",
       "      <td>chlorides</td>\n",
       "      <td>-1.615478</td>\n",
       "    </tr>\n",
       "    <tr>\n",
       "      <td>5</td>\n",
       "      <td>free sulfur dioxide</td>\n",
       "      <td>0.004551</td>\n",
       "    </tr>\n",
       "    <tr>\n",
       "      <td>6</td>\n",
       "      <td>total sulfur dioxide</td>\n",
       "      <td>-0.002884</td>\n",
       "    </tr>\n",
       "    <tr>\n",
       "      <td>7</td>\n",
       "      <td>density</td>\n",
       "      <td>-0.025600</td>\n",
       "    </tr>\n",
       "    <tr>\n",
       "      <td>8</td>\n",
       "      <td>pH</td>\n",
       "      <td>-0.425427</td>\n",
       "    </tr>\n",
       "    <tr>\n",
       "      <td>9</td>\n",
       "      <td>sulphates</td>\n",
       "      <td>0.826227</td>\n",
       "    </tr>\n",
       "    <tr>\n",
       "      <td>10</td>\n",
       "      <td>alcohol</td>\n",
       "      <td>0.293277</td>\n",
       "    </tr>\n",
       "  </tbody>\n",
       "</table>\n",
       "</div>"
      ],
      "text/plain": [
       "                 feature  coefficient\n",
       "0          fixed acidity     0.014851\n",
       "1       volatile acidity    -1.173424\n",
       "2            citric acid    -0.199628\n",
       "3         residual sugar     0.000318\n",
       "4              chlorides    -1.615478\n",
       "5    free sulfur dioxide     0.004551\n",
       "6   total sulfur dioxide    -0.002884\n",
       "7                density    -0.025600\n",
       "8                     pH    -0.425427\n",
       "9              sulphates     0.826227\n",
       "10               alcohol     0.293277"
      ]
     },
     "execution_count": 27,
     "metadata": {},
     "output_type": "execute_result"
    }
   ],
   "source": [
    "ridge_table"
   ]
  },
  {
   "cell_type": "markdown",
   "metadata": {},
   "source": [
    "# Lasso:"
   ]
  },
  {
   "cell_type": "code",
   "execution_count": 28,
   "metadata": {},
   "outputs": [
    {
     "name": "stdout",
     "output_type": "stream",
     "text": [
      "Lasso training error: 0.5198054204308548\n",
      "Lasso test error: 0.45\n",
      "Minimum cross validation error: 0.44340340875545864\n",
      "Lasso tuninng parameter alpha: [0.01]\n",
      "Lasso Intercept term: 2.498848757075039\n"
     ]
    },
    {
     "data": {
      "text/plain": [
       "<matplotlib.axes._subplots.AxesSubplot at 0x26691474e48>"
      ]
     },
     "execution_count": 28,
     "metadata": {},
     "output_type": "execute_result"
    },
    {
     "data": {
      "image/png": "[encoded data removed]",
      "text/plain": [
       "<Figure size 432x288 with 1 Axes>"
      ]
     },
     "metadata": {
      "needs_background": "light"
     },
     "output_type": "display_data"
    }
   ],
   "source": [
    "print(\"Lasso training error:\",lasso_training_error)\n",
    "print(\"Lasso test error:\",lasso_test_error)\n",
    "print(\"Minimum cross validation error:\",lasso_min_cv)\n",
    "print(\"Lasso tuninng parameter alpha:\",lasso_tuning)\n",
    "print(\"Lasso Intercept term:\",lasso_intercept)\n",
    "sns.scatterplot(x=\"log alphas\",y=\"cross_validation_errors\", data =lasso_cv_table)"
   ]
  },
  {
   "cell_type": "code",
   "execution_count": 29,
   "metadata": {
    "scrolled": true
   },
   "outputs": [
    {
     "data": {
      "text/html": [
       "<div>\n",
       "<style scoped>\n",
       "    .dataframe tbody tr th:only-of-type {\n",
       "        vertical-align: middle;\n",
       "    }\n",
       "\n",
       "    .dataframe tbody tr th {\n",
       "        vertical-align: top;\n",
       "    }\n",
       "\n",
       "    .dataframe thead th {\n",
       "        text-align: right;\n",
       "    }\n",
       "</style>\n",
       "<table border=\"1\" class=\"dataframe\">\n",
       "  <thead>\n",
       "    <tr style=\"text-align: right;\">\n",
       "      <th></th>\n",
       "      <th>feature</th>\n",
       "      <th>coefficient</th>\n",
       "    </tr>\n",
       "  </thead>\n",
       "  <tbody>\n",
       "    <tr>\n",
       "      <td>0</td>\n",
       "      <td>fixed acidity</td>\n",
       "      <td>0.034779</td>\n",
       "    </tr>\n",
       "    <tr>\n",
       "      <td>1</td>\n",
       "      <td>volatile acidity</td>\n",
       "      <td>-0.910448</td>\n",
       "    </tr>\n",
       "    <tr>\n",
       "      <td>2</td>\n",
       "      <td>citric acid</td>\n",
       "      <td>0.000000</td>\n",
       "    </tr>\n",
       "    <tr>\n",
       "      <td>3</td>\n",
       "      <td>residual sugar</td>\n",
       "      <td>-0.001435</td>\n",
       "    </tr>\n",
       "    <tr>\n",
       "      <td>4</td>\n",
       "      <td>chlorides</td>\n",
       "      <td>-0.000000</td>\n",
       "    </tr>\n",
       "    <tr>\n",
       "      <td>5</td>\n",
       "      <td>free sulfur dioxide</td>\n",
       "      <td>0.005061</td>\n",
       "    </tr>\n",
       "    <tr>\n",
       "      <td>6</td>\n",
       "      <td>total sulfur dioxide</td>\n",
       "      <td>-0.002845</td>\n",
       "    </tr>\n",
       "    <tr>\n",
       "      <td>7</td>\n",
       "      <td>density</td>\n",
       "      <td>-0.000000</td>\n",
       "    </tr>\n",
       "    <tr>\n",
       "      <td>8</td>\n",
       "      <td>pH</td>\n",
       "      <td>-0.000000</td>\n",
       "    </tr>\n",
       "    <tr>\n",
       "      <td>9</td>\n",
       "      <td>sulphates</td>\n",
       "      <td>0.362674</td>\n",
       "    </tr>\n",
       "    <tr>\n",
       "      <td>10</td>\n",
       "      <td>alcohol</td>\n",
       "      <td>0.301949</td>\n",
       "    </tr>\n",
       "  </tbody>\n",
       "</table>\n",
       "</div>"
      ],
      "text/plain": [
       "                 feature  coefficient\n",
       "0          fixed acidity     0.034779\n",
       "1       volatile acidity    -0.910448\n",
       "2            citric acid     0.000000\n",
       "3         residual sugar    -0.001435\n",
       "4              chlorides    -0.000000\n",
       "5    free sulfur dioxide     0.005061\n",
       "6   total sulfur dioxide    -0.002845\n",
       "7                density    -0.000000\n",
       "8                     pH    -0.000000\n",
       "9              sulphates     0.362674\n",
       "10               alcohol     0.301949"
      ]
     },
     "execution_count": 29,
     "metadata": {},
     "output_type": "execute_result"
    }
   ],
   "source": [
    "lasso_table"
   ]
  },
  {
   "cell_type": "markdown",
   "metadata": {},
   "source": [
    "# Elastic Net:"
   ]
  },
  {
   "cell_type": "code",
   "execution_count": 30,
   "metadata": {},
   "outputs": [
    {
     "name": "stdout",
     "output_type": "stream",
     "text": [
      "Elastic Net training error: 0.5628908964558721\n",
      "Elastic Net test error: 0.46875\n",
      "Minimum cross validation error: 0.47627439820399725\n",
      "Elastic Net tuninng parameter alpha: 0.1\n",
      "Elastic Net tuninng parameter lambda: 0.1\n",
      "Elastic Net Intercept term: 2.1149006099654573\n"
     ]
    },
    {
     "data": {
      "text/plain": [
       "Text(0.5, 0, 'lambda')"
      ]
     },
     "execution_count": 30,
     "metadata": {},
     "output_type": "execute_result"
    },
    {
     "data": {
      "image/png": "[encoded data removed]",
      "text/plain": [
       "<Figure size 432x288 with 1 Axes>"
      ]
     },
     "metadata": {
      "needs_background": "light"
     },
     "output_type": "display_data"
    }
   ],
   "source": [
    "print(\"Elastic Net training error:\",EN_training_error)\n",
    "print(\"Elastic Net test error:\",EN_test_error)\n",
    "print(\"Minimum cross validation error:\",EN_min_cv)\n",
    "print(\"Elastic Net tuninng parameter alpha:\",EN_alpha)\n",
    "print(\"Elastic Net tuninng parameter lambda:\",EN_lambda)\n",
    "print(\"Elastic Net Intercept term:\",EN_intercept)\n",
    "fig = plt.figure()\n",
    "ax = fig.add_subplot(111, projection='3d')\n",
    "x=rpt_alphas\n",
    "y=rpt_l1\n",
    "z=validation_errors\n",
    "ax.plot(x,y,z, label=\"Cross Validation Errors\")\n",
    "plt.xlabel('alphas')\n",
    "plt.ylabel('lambda')"
   ]
  },
  {
   "cell_type": "code",
   "execution_count": 31,
   "metadata": {},
   "outputs": [
    {
     "data": {
      "text/html": [
       "<div>\n",
       "<style scoped>\n",
       "    .dataframe tbody tr th:only-of-type {\n",
       "        vertical-align: middle;\n",
       "    }\n",
       "\n",
       "    .dataframe tbody tr th {\n",
       "        vertical-align: top;\n",
       "    }\n",
       "\n",
       "    .dataframe thead th {\n",
       "        text-align: right;\n",
       "    }\n",
       "</style>\n",
       "<table border=\"1\" class=\"dataframe\">\n",
       "  <thead>\n",
       "    <tr style=\"text-align: right;\">\n",
       "      <th></th>\n",
       "      <th>feature</th>\n",
       "      <th>coefficient</th>\n",
       "    </tr>\n",
       "  </thead>\n",
       "  <tbody>\n",
       "    <tr>\n",
       "      <td>0</td>\n",
       "      <td>fixed acidity</td>\n",
       "      <td>0.054150</td>\n",
       "    </tr>\n",
       "    <tr>\n",
       "      <td>1</td>\n",
       "      <td>volatile acidity</td>\n",
       "      <td>-0.233872</td>\n",
       "    </tr>\n",
       "    <tr>\n",
       "      <td>2</td>\n",
       "      <td>citric acid</td>\n",
       "      <td>0.024922</td>\n",
       "    </tr>\n",
       "    <tr>\n",
       "      <td>3</td>\n",
       "      <td>residual sugar</td>\n",
       "      <td>-0.004832</td>\n",
       "    </tr>\n",
       "    <tr>\n",
       "      <td>4</td>\n",
       "      <td>chlorides</td>\n",
       "      <td>-0.000000</td>\n",
       "    </tr>\n",
       "    <tr>\n",
       "      <td>5</td>\n",
       "      <td>free sulfur dioxide</td>\n",
       "      <td>0.007004</td>\n",
       "    </tr>\n",
       "    <tr>\n",
       "      <td>6</td>\n",
       "      <td>total sulfur dioxide</td>\n",
       "      <td>-0.003365</td>\n",
       "    </tr>\n",
       "    <tr>\n",
       "      <td>7</td>\n",
       "      <td>density</td>\n",
       "      <td>-0.000000</td>\n",
       "    </tr>\n",
       "    <tr>\n",
       "      <td>8</td>\n",
       "      <td>pH</td>\n",
       "      <td>-0.000000</td>\n",
       "    </tr>\n",
       "    <tr>\n",
       "      <td>9</td>\n",
       "      <td>sulphates</td>\n",
       "      <td>0.122074</td>\n",
       "    </tr>\n",
       "    <tr>\n",
       "      <td>10</td>\n",
       "      <td>alcohol</td>\n",
       "      <td>0.303850</td>\n",
       "    </tr>\n",
       "  </tbody>\n",
       "</table>\n",
       "</div>"
      ],
      "text/plain": [
       "                 feature  coefficient\n",
       "0          fixed acidity     0.054150\n",
       "1       volatile acidity    -0.233872\n",
       "2            citric acid     0.024922\n",
       "3         residual sugar    -0.004832\n",
       "4              chlorides    -0.000000\n",
       "5    free sulfur dioxide     0.007004\n",
       "6   total sulfur dioxide    -0.003365\n",
       "7                density    -0.000000\n",
       "8                     pH    -0.000000\n",
       "9              sulphates     0.122074\n",
       "10               alcohol     0.303850"
      ]
     },
     "execution_count": 31,
     "metadata": {},
     "output_type": "execute_result"
    }
   ],
   "source": [
    "EN_table"
   ]
  },
  {
   "cell_type": "code",
   "execution_count": null,
   "metadata": {},
   "outputs": [],
   "source": []
  }
 ],
 "metadata": {
  "kernelspec": {
   "display_name": "Python 3",
   "language": "python",
   "name": "python3"
  },
  "language_info": {
   "codemirror_mode": {
    "name": "ipython",
    "version": 3
   },
   "file_extension": ".py",
   "mimetype": "text/x-python",
   "name": "python",
   "nbconvert_exporter": "python",
   "pygments_lexer": "ipython3",
   "version": "3.7.4"
  }
 },
 "nbformat": 4,
 "nbformat_minor": 2
}
